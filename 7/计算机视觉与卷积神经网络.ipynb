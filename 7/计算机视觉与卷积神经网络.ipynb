{
 "cells": [
  {
   "cell_type": "code",
   "execution_count": 2,
   "id": "1283be16",
   "metadata": {},
   "outputs": [],
   "source": [
    "import torch\n",
    "from torch import nn"
   ]
  },
  {
   "cell_type": "code",
   "execution_count": 5,
   "id": "c6152200",
   "metadata": {},
   "outputs": [
    {
     "name": "stdout",
     "output_type": "stream",
     "text": [
      "torch.Size([20, 16, 256, 256])\n"
     ]
    }
   ],
   "source": [
    "input=torch.randn(20,3,256,256)\n",
    "conv_layer=nn.Conv2d(3,16,(3,3),stride=1,padding=1)\n",
    "output=conv_layer(input)\n",
    "print(output.shape)"
   ]
  },
  {
   "cell_type": "code",
   "execution_count": 7,
   "id": "e5810398",
   "metadata": {},
   "outputs": [
    {
     "name": "stdout",
     "output_type": "stream",
     "text": [
      "torch.Size([64, 3, 128, 128])\n"
     ]
    }
   ],
   "source": [
    "img_batch=torch.randn((64,3,256,256))\n",
    "pool_out=torch.max_pool2d(img_batch,kernel_size=(2,2))# 应用最大池化\n",
    "print(pool_out.shape)"
   ]
  },
  {
   "cell_type": "code",
   "execution_count": null,
   "id": "7131afc8",
   "metadata": {},
   "outputs": [],
   "source": []
  }
 ],
 "metadata": {
  "kernelspec": {
   "display_name": "pytorch",
   "language": "python",
   "name": "pytorch"
  },
  "language_info": {
   "codemirror_mode": {
    "name": "ipython",
    "version": 3
   },
   "file_extension": ".py",
   "mimetype": "text/x-python",
   "name": "python",
   "nbconvert_exporter": "python",
   "pygments_lexer": "ipython3",
   "version": "3.8.18"
  }
 },
 "nbformat": 4,
 "nbformat_minor": 5
}
