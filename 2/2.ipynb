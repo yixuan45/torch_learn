{
 "cells": [
  {
   "cell_type": "code",
   "execution_count": 1,
   "id": "88b2b675",
   "metadata": {},
   "outputs": [
    {
     "name": "stderr",
     "output_type": "stream",
     "text": [
      "D:\\anaconda\\envs\\pytorch\\lib\\site-packages\\tqdm\\auto.py:21: TqdmWarning: IProgress not found. Please update jupyter and ipywidgets. See https://ipywidgets.readthedocs.io/en/stable/user_install.html\n",
      "  from .autonotebook import tqdm as notebook_tqdm\n"
     ]
    }
   ],
   "source": [
    "import torch\n",
    "import pandas as pd\n",
    "import numpy as np\n",
    "import matplotlib.pyplot as plt\n",
    "from torch import nn"
   ]
  },
  {
   "cell_type": "code",
   "execution_count": 2,
   "id": "e663d5bf",
   "metadata": {},
   "outputs": [],
   "source": [
    "data=pd.read_csv('./datasets/Income1.csv')"
   ]
  },
  {
   "cell_type": "code",
   "execution_count": 3,
   "id": "ef0adc85",
   "metadata": {},
   "outputs": [
    {
     "data": {
      "text/html": [
       "<div>\n",
       "<style scoped>\n",
       "    .dataframe tbody tr th:only-of-type {\n",
       "        vertical-align: middle;\n",
       "    }\n",
       "\n",
       "    .dataframe tbody tr th {\n",
       "        vertical-align: top;\n",
       "    }\n",
       "\n",
       "    .dataframe thead th {\n",
       "        text-align: right;\n",
       "    }\n",
       "</style>\n",
       "<table border=\"1\" class=\"dataframe\">\n",
       "  <thead>\n",
       "    <tr style=\"text-align: right;\">\n",
       "      <th></th>\n",
       "      <th>Unnamed: 0</th>\n",
       "      <th>Education</th>\n",
       "      <th>Income</th>\n",
       "    </tr>\n",
       "  </thead>\n",
       "  <tbody>\n",
       "    <tr>\n",
       "      <th>0</th>\n",
       "      <td>1</td>\n",
       "      <td>10.000000</td>\n",
       "      <td>26.658839</td>\n",
       "    </tr>\n",
       "    <tr>\n",
       "      <th>1</th>\n",
       "      <td>2</td>\n",
       "      <td>10.401338</td>\n",
       "      <td>27.306435</td>\n",
       "    </tr>\n",
       "    <tr>\n",
       "      <th>2</th>\n",
       "      <td>3</td>\n",
       "      <td>10.842809</td>\n",
       "      <td>22.132410</td>\n",
       "    </tr>\n",
       "  </tbody>\n",
       "</table>\n",
       "</div>"
      ],
      "text/plain": [
       "   Unnamed: 0  Education     Income\n",
       "0           1  10.000000  26.658839\n",
       "1           2  10.401338  27.306435\n",
       "2           3  10.842809  22.132410"
      ]
     },
     "execution_count": 3,
     "metadata": {},
     "output_type": "execute_result"
    }
   ],
   "source": [
    "data.head(3)"
   ]
  },
  {
   "cell_type": "code",
   "execution_count": 4,
   "id": "79b85a4c",
   "metadata": {},
   "outputs": [
    {
     "name": "stdout",
     "output_type": "stream",
     "text": [
      "<class 'pandas.core.frame.DataFrame'>\n",
      "RangeIndex: 30 entries, 0 to 29\n",
      "Data columns (total 3 columns):\n",
      " #   Column      Non-Null Count  Dtype  \n",
      "---  ------      --------------  -----  \n",
      " 0   Unnamed: 0  30 non-null     int64  \n",
      " 1   Education   30 non-null     float64\n",
      " 2   Income      30 non-null     float64\n",
      "dtypes: float64(2), int64(1)\n",
      "memory usage: 848.0 bytes\n"
     ]
    }
   ],
   "source": [
    "data.info()"
   ]
  },
  {
   "cell_type": "code",
   "execution_count": 5,
   "id": "d942848d",
   "metadata": {},
   "outputs": [
    {
     "data": {
      "image/png": "[encoded data removed]",
      "text/plain": [
       "<Figure size 640x480 with 1 Axes>"
      ]
     },
     "metadata": {},
     "output_type": "display_data"
    }
   ],
   "source": [
    "plt.scatter(data.Education,data.Income)\n",
    "plt.xlabel('Education')\n",
    "plt.ylabel('Income')\n",
    "plt.show()"
   ]
  },
  {
   "cell_type": "code",
   "execution_count": 6,
   "id": "c44d1308",
   "metadata": {},
   "outputs": [
    {
     "name": "stdout",
     "output_type": "stream",
     "text": [
      "torch.Size([30, 1]) torch.Size([30, 1])\n"
     ]
    }
   ],
   "source": [
    "X=torch.from_numpy(data.Education.to_numpy().reshape(-1,1)).type(torch.FloatTensor)\n",
    "Y=torch.from_numpy(data.Income.to_numpy().reshape(-1,1)).type(torch.FloatTensor)\n",
    "print(X.size(),Y.size())"
   ]
  },
  {
   "cell_type": "code",
   "execution_count": 7,
   "id": "bf6a5d4f",
   "metadata": {},
   "outputs": [],
   "source": [
    "class EIModel(nn.Module):\n",
    "    def __init__(self):\n",
    "        super(EIModel, self).__init__()\n",
    "        self.linear = nn.Linear(in_features=1, out_features=1)\n",
    "\n",
    "    def forward(self, inputs):\n",
    "        logits = self.linear(inputs)\n",
    "        return logits"
   ]
  },
  {
   "cell_type": "code",
   "execution_count": 8,
   "id": "47f5ac66",
   "metadata": {},
   "outputs": [],
   "source": [
    "model=EIModel()#实例化对象"
   ]
  },
  {
   "cell_type": "code",
   "execution_count": 9,
   "id": "3e3d7d14",
   "metadata": {},
   "outputs": [],
   "source": [
    "loss_fn=nn.MSELoss() #定义均方误差损失计算函数\n",
    "opt=torch.optim.SGD(model.parameters(),lr=0.0001) #初始化优化器"
   ]
  },
  {
   "cell_type": "markdown",
   "id": "d388d4dd",
   "metadata": {},
   "source": [
    "下面开始编写训练代码，对全部数据训练500次"
   ]
  },
  {
   "cell_type": "code",
   "execution_count": 16,
   "id": "3e60350b",
   "metadata": {},
   "outputs": [
    {
     "name": "stdout",
     "output_type": "stream",
     "text": [
      "完成了\n"
     ]
    }
   ],
   "source": [
    "for epoch in range(1000):\n",
    "    for x,y in zip(X,Y):\n",
    "        y_pred=model(x)  #将x作为输入值，传入模型中，然后输出y_pred预测值\n",
    "        loss=loss_fn(y_pred,y)  #将输出的结果y_pred和y的值进行计算算出相差值\n",
    "#         print(\"损失值为:{}\".format(loss))\n",
    "        opt.zero_grad() # 将累计的梯度置为0\n",
    "        loss.backward() #反向传播损失，计算损失与模型参数之间的梯度\n",
    "        opt.step()  #根据计算得到梯度优化模型参数\n",
    "print('完成了')"
   ]
  },
  {
   "cell_type": "code",
   "execution_count": 14,
   "id": "9707e826",
   "metadata": {},
   "outputs": [
    {
     "name": "stdout",
     "output_type": "stream",
     "text": [
      "[('linear.weight', Parameter containing:\n",
      "tensor([[5.0509]], requires_grad=True)), ('linear.bias', Parameter containing:\n",
      "tensor([-29.7798], requires_grad=True))]\n"
     ]
    }
   ],
   "source": [
    "print(list(model.named_parameters()))"
   ]
  },
  {
   "cell_type": "markdown",
   "id": "bc9ec949",
   "metadata": {},
   "source": [
    "模型有两个参数，接下来将训练好的参数放到原散点图中，进行预测"
   ]
  },
  {
   "cell_type": "code",
   "execution_count": 17,
   "id": "1d825ca4",
   "metadata": {},
   "outputs": [
    {
     "name": "stdout",
     "output_type": "stream",
     "text": [
      "此时的模型参数为\n",
      "[('linear.weight', Parameter containing:\n",
      "tensor([[5.1553]], requires_grad=True)), ('linear.bias', Parameter containing:\n",
      "tensor([-31.7071], requires_grad=True))]\n"
     ]
    },
    {
     "data": {
      "image/png": "[encoded data removed]",
      "text/plain": [
       "<Figure size 640x480 with 1 Axes>"
      ]
     },
     "metadata": {},
     "output_type": "display_data"
    }
   ],
   "source": [
    "#绘制原数据分布散点图\n",
    "plt.scatter(data.Education,data.Income,label='real data')\n",
    "#绘制预测的直线，这里model(x)表示调用模型预测\n",
    "#打印一下此时的模型参数\n",
    "print(\"此时的模型参数为\\n{}\".format(list(model.named_parameters())))\n",
    "plt.plot(X,model(X).detach().numpy(),c='r',label='predicted line')\n",
    "plt.xlabel('Education')\n",
    "plt.ylabel('Income')\n",
    "plt.legend()\n",
    "plt.show()"
   ]
  },
  {
   "cell_type": "code",
   "execution_count": null,
   "id": "c8a304bf",
   "metadata": {},
   "outputs": [],
   "source": []
  }
 ],
 "metadata": {
  "kernelspec": {
   "display_name": "pytorch",
   "language": "python",
   "name": "pytorch"
  },
  "language_info": {
   "codemirror_mode": {
    "name": "ipython",
    "version": 3
   },
   "file_extension": ".py",
   "mimetype": "text/x-python",
   "name": "python",
   "nbconvert_exporter": "python",
   "pygments_lexer": "ipython3",
   "version": "3.8.18"
  }
 },
 "nbformat": 4,
 "nbformat_minor": 5
}
